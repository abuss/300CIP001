{
 "cells": [
  {
   "cell_type": "markdown",
   "metadata": {},
   "source": [
    "### Alcance de variables"
   ]
  },
  {
   "cell_type": "code",
   "execution_count": 2,
   "metadata": {
    "collapsed": false
   },
   "outputs": [
    {
     "name": "stdout",
     "output_type": "stream",
     "text": [
      "7\n"
     ]
    }
   ],
   "source": [
    "x = 2\n",
    "y = 5\n",
    "w = x + y\n",
    "print(w)"
   ]
  },
  {
   "cell_type": "code",
   "execution_count": 4,
   "metadata": {
    "collapsed": true
   },
   "outputs": [],
   "source": [
    "import tutor"
   ]
  },
  {
   "cell_type": "code",
   "execution_count": 9,
   "metadata": {
    "collapsed": false
   },
   "outputs": [
    {
     "data": {
      "text/html": [
       "\n",
       "    <iframe width=\"800\" height=\"500\" frameborder=\"0\"\n",
       "            src=\"http://pythontutor.com/iframe-embed.html#code=def+foo%28%29%3A%0A++++x+%3D+5%0A++++return+x%0Ax+%3D+2%0Ax+%3D+foo%28%29+%2B+x%0Ay+%3D+5%0Aw+%3D+x+%2B+y%0Aprint%28w%29&py=3\">\n",
       "    </iframe>\n",
       "    "
      ],
      "text/plain": [
       "<IPython.core.display.HTML object>"
      ]
     },
     "metadata": {},
     "output_type": "display_data"
    }
   ],
   "source": [
    "%%tutor\n",
    "def foo():\n",
    "    x = 5\n",
    "x = 2\n",
    "y = 5\n",
    "w = x + y\n",
    "print(w)"
   ]
  },
  {
   "cell_type": "code",
   "execution_count": 13,
   "metadata": {
    "collapsed": false
   },
   "outputs": [
    {
     "data": {
      "text/html": [
       "\n",
       "    <iframe width=\"800\" height=\"500\" frameborder=\"0\"\n",
       "            src=\"http://pythontutor.com/iframe-embed.html#code=def+foo%28%29%3A%0A++++global+x%2Cz%0A++++x+%3D+5%0A++++z+%3D+1%0A%0Ax+%3D+2%0Afoo%28%29%0Ay+%3D+5%0Aw+%3D+x+%2B+y%0Aprint%28w%29&py=3\">\n",
       "    </iframe>\n",
       "    "
      ],
      "text/plain": [
       "<IPython.core.display.HTML object>"
      ]
     },
     "metadata": {},
     "output_type": "display_data"
    }
   ],
   "source": [
    "%%tutor\n",
    "def foo():\n",
    "    global x,z\n",
    "    x = 5\n",
    "    z = 1\n",
    "\n",
    "x = 2\n",
    "foo()\n",
    "y = 5\n",
    "w = x + y\n",
    "print(w)"
   ]
  },
  {
   "cell_type": "code",
   "execution_count": 19,
   "metadata": {
    "collapsed": false
   },
   "outputs": [
    {
     "name": "stdout",
     "output_type": "stream",
     "text": [
      "en foo y: 10\n",
      "en bar y: 5\n",
      "88 6\n"
     ]
    }
   ],
   "source": [
    "def foo(x):\n",
    "    x = x + 5\n",
    "    y = x\n",
    "    print(\"en foo y:\",y)\n",
    "    \n",
    "def bar(y):\n",
    "    global x\n",
    "    x = 88\n",
    "    foo(5)\n",
    "    y = y + 2\n",
    "    print(\"en bar y:\",y)\n",
    "    \n",
    "x = 3\n",
    "y = 6\n",
    "bar(x)\n",
    "print(x,y)\n"
   ]
  },
  {
   "cell_type": "markdown",
   "metadata": {},
   "source": [
    "### En qué fecha cae Semana Santa?\n",
    "La fórmula para calcular la fecha del Domingo de Pascua en los años 1982–2048, inclusive, es:\n",
    "sea\n",
    "\n",
    "```\n",
    "a = año % 19 \n",
    "b = año % 4\n",
    "c = año % 7\n",
    "d = (19a + 24) % 30\n",
    "e = (2b + 4c + 6d + 5) % 7\n",
    "```\n",
    "entonces el día del Domingo de Pascua es Marzo 22 + d + e."
   ]
  },
  {
   "cell_type": "code",
   "execution_count": 23,
   "metadata": {
    "collapsed": false
   },
   "outputs": [
    {
     "name": "stdout",
     "output_type": "stream",
     "text": [
      "Dia del domingo de Pascua es marzo  27\n"
     ]
    }
   ],
   "source": [
    "def dia_pascua(ano:int) -> int:\n",
    "    \"Calcula el d´ıa de domingo de pascua\"\n",
    "    a = ano % 19\n",
    "    b = ano % 4\n",
    "    c = ano % 7\n",
    "    d = (19*a + 24) % 30\n",
    "    e = (2*b+4*c+6*d+5) % 7\n",
    "    return 22 + d + e\n",
    "print(\"Dia del domingo de Pascua es marzo \",dia_pascua(2016))"
   ]
  },
  {
   "cell_type": "code",
   "execution_count": 25,
   "metadata": {
    "collapsed": false
   },
   "outputs": [
    {
     "name": "stdout",
     "output_type": "stream",
     "text": [
      "Dia del domingo de Pascua es marzo  36\n"
     ]
    }
   ],
   "source": [
    "print(\"Dia del domingo de Pascua es marzo \",dia_pascua(2015))"
   ]
  },
  {
   "cell_type": "markdown",
   "metadata": {},
   "source": [
    "#### Cambio de dinero\n",
    "Se tienen las siguientes denominaciones de dinero\n",
    "- billetes de \\$2000\n",
    "- monedas de \\$500\n",
    "- modenas de \\$200\n",
    "- modenas de \\$50\n",
    "\n",
    "Realizar un procedimiento que me muestre como distribuir en las denominacones establecidas el dinero a retornar"
   ]
  },
  {
   "cell_type": "code",
   "execution_count": 30,
   "metadata": {
    "collapsed": false
   },
   "outputs": [
    {
     "data": {
      "text/plain": [
       "'primero: 1, segundo: 2, tercero:3'"
      ]
     },
     "execution_count": 30,
     "metadata": {},
     "output_type": "execute_result"
    }
   ],
   "source": [
    "\"primero: {}, segundo: {}, tercero:{}\".format(1,2,3)"
   ]
  },
  {
   "cell_type": "code",
   "execution_count": 31,
   "metadata": {
    "collapsed": false
   },
   "outputs": [
    {
     "data": {
      "text/plain": [
       "'primero: 3, segundo: 2, tercero:1'"
      ]
     },
     "execution_count": 31,
     "metadata": {},
     "output_type": "execute_result"
    }
   ],
   "source": [
    "\"primero: {2}, segundo: {1}, tercero:{0}\".format(1,2,3)"
   ]
  },
  {
   "cell_type": "code",
   "execution_count": 32,
   "metadata": {
    "collapsed": false
   },
   "outputs": [
    {
     "data": {
      "text/plain": [
       "'primero: 1, segundo: 1, tercero:1'"
      ]
     },
     "execution_count": 32,
     "metadata": {},
     "output_type": "execute_result"
    }
   ],
   "source": [
    "\"primero: {0}, segundo: {0}, tercero:{0}\".format(1,2,3)"
   ]
  },
  {
   "cell_type": "code",
   "execution_count": 33,
   "metadata": {
    "collapsed": false
   },
   "outputs": [
    {
     "name": "stdout",
     "output_type": "stream",
     "text": [
      "Retornar 1 billete(s) de $2000\n",
      "Retornar 2 moneda(s) de $500\n",
      "Retornar 1 moneda(s) de $200\n",
      "Retornar 1 moneda(s) de $50\n"
     ]
    }
   ],
   "source": [
    "def distribuir(dinero:int):\n",
    "    billetes = dinero // 2000\n",
    "    dinero = dinero % 2000\n",
    "    print(\"Retornar {} billete(s) de $2000\".format(billetes))\n",
    "    monedas500 = dinero // 500\n",
    "    dinero = dinero % 500\n",
    "    print(\"Retornar {} moneda(s) de $500\".format(monedas500))\n",
    "    monedas200 = dinero // 200\n",
    "    dinero = dinero % 200\n",
    "    print(\"Retornar {} moneda(s) de $200\".format(monedas200))\n",
    "    monedas50 = dinero // 50\n",
    "    dinero = dinero % 50\n",
    "    print(\"Retornar {} moneda(s) de $50\".format(monedas50))\n",
    "\n",
    "    \n",
    "distribuir(3250)"
   ]
  }
 ],
 "metadata": {
  "kernelspec": {
   "display_name": "Python 3",
   "language": "python",
   "name": "python3"
  },
  "language_info": {
   "codemirror_mode": {
    "name": "ipython",
    "version": 3
   },
   "file_extension": ".py",
   "mimetype": "text/x-python",
   "name": "python",
   "nbconvert_exporter": "python",
   "pygments_lexer": "ipython3",
   "version": "3.4.3+"
  }
 },
 "nbformat": 4,
 "nbformat_minor": 0
}
