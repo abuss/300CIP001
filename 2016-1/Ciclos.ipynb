{
 "cells": [
  {
   "cell_type": "code",
   "execution_count": 25,
   "metadata": {
    "collapsed": false
   },
   "outputs": [
    {
     "name": "stdout",
     "output_type": "stream",
     "text": [
      "Estoy en el ciclo\n",
      "Estoy en el ciclo\n",
      "Estoy en el ciclo\n",
      "Estoy en el ciclo\n",
      "Estoy en el ciclo\n",
      "Estoy en el ciclo\n",
      "Estoy en el ciclo\n",
      "Estoy en el ciclo\n",
      "Estoy en el ciclo\n",
      "Estoy en el ciclo\n",
      "Estoy fuera del ciclo\n",
      "a: 0.0\n"
     ]
    }
   ],
   "source": [
    "a = 5\n",
    "while a>0:\n",
    "    print(\"Estoy en el ciclo\")\n",
    "    a-=0.5\n",
    "print(\"Estoy fuera del ciclo\")\n",
    "print(\"a:\",a)"
   ]
  },
  {
   "cell_type": "code",
   "execution_count": 6,
   "metadata": {
    "collapsed": false
   },
   "outputs": [
    {
     "data": {
      "application/javascript": [
       "var out=\"\";\n",
       "for(var i = 0; i<10; i++)\n",
       "    out += i+\" \";\n",
       "alert(out);"
      ],
      "text/plain": [
       "<IPython.core.display.Javascript object>"
      ]
     },
     "metadata": {},
     "output_type": "display_data"
    }
   ],
   "source": [
    "%%javascript\n",
    "var salida=\"\";\n",
    "for(var i = 0; i<10; i++)\n",
    "    salida += i+\" \";\n",
    "alert(salida);"
   ]
  },
  {
   "cell_type": "code",
   "execution_count": 10,
   "metadata": {
    "collapsed": false
   },
   "outputs": [
    {
     "name": "stdout",
     "output_type": "stream",
     "text": [
      "0 2 4 6 8 \n"
     ]
    }
   ],
   "source": [
    "salida = \"\"\n",
    "i = 0\n",
    "while i<10:\n",
    "    salida +=\"{} \".format(i)\n",
    "    i+=2\n",
    "print(salida)"
   ]
  },
  {
   "cell_type": "code",
   "execution_count": 12,
   "metadata": {
    "collapsed": false
   },
   "outputs": [
    {
     "name": "stdout",
     "output_type": "stream",
     "text": [
      "0 1 2 3 4 5 6 7 8 9 \n"
     ]
    }
   ],
   "source": [
    "salida = \"\"\n",
    "for i in range(10):\n",
    "    salida += \"{} \".format(i)\n",
    "print(salida)"
   ]
  },
  {
   "cell_type": "code",
   "execution_count": 13,
   "metadata": {
    "collapsed": false
   },
   "outputs": [
    {
     "data": {
      "text/plain": [
       "[0, 2, 4, 6, 8]"
      ]
     },
     "execution_count": 13,
     "metadata": {},
     "output_type": "execute_result"
    }
   ],
   "source": [
    "list(range(0,10,2))"
   ]
  },
  {
   "cell_type": "code",
   "execution_count": 17,
   "metadata": {
    "collapsed": false
   },
   "outputs": [
    {
     "data": {
      "application/javascript": [
       "var salida = \"\";\n",
       "var a = 5;\n",
       "do {\n",
       "    salida += a;\n",
       "    a++;\n",
       "} while (a<5)\n",
       "alert(salida);"
      ],
      "text/plain": [
       "<IPython.core.display.Javascript object>"
      ]
     },
     "metadata": {},
     "output_type": "display_data"
    }
   ],
   "source": [
    "%%javascript\n",
    "var salida = \"\";\n",
    "var a = 5;\n",
    "do {\n",
    "    salida += a;\n",
    "    a++;\n",
    "} while (a<5)\n",
    "alert(salida);"
   ]
  },
  {
   "cell_type": "code",
   "execution_count": 18,
   "metadata": {
    "collapsed": false
   },
   "outputs": [
    {
     "name": "stdout",
     "output_type": "stream",
     "text": [
      "5 \n"
     ]
    }
   ],
   "source": [
    "salida = \"\"\n",
    "a = 5\n",
    "salida +=\"{} \".format(a)\n",
    "a+=1\n",
    "while (a<5):\n",
    "    salida += \"{} \".format(a)\n",
    "    a+=1\n",
    "print(salida)"
   ]
  },
  {
   "cell_type": "code",
   "execution_count": 24,
   "metadata": {
    "collapsed": false
   },
   "outputs": [
    {
     "name": "stdout",
     "output_type": "stream",
     "text": [
      "5 \n"
     ]
    }
   ],
   "source": [
    "salida = \"\"\n",
    "a = 5\n",
    "sigo = True\n",
    "while sigo:\n",
    "    salida += \"{} \".format(a)\n",
    "    a+=1\n",
    "    if not a<5:\n",
    "        sigo = False\n",
    "print(salida)"
   ]
  },
  {
   "cell_type": "code",
   "execution_count": 28,
   "metadata": {
    "collapsed": true
   },
   "outputs": [],
   "source": [
    "def fact(n:int)->int:\n",
    "    \"Retorna el factorial del numero n\"\n",
    "    i = 1\n",
    "    res = 1\n",
    "    while i<=n:\n",
    "        res = res * i\n",
    "        i+=1\n",
    "    return res"
   ]
  },
  {
   "cell_type": "code",
   "execution_count": 29,
   "metadata": {
    "collapsed": false
   },
   "outputs": [
    {
     "data": {
      "text/plain": [
       "120"
      ]
     },
     "execution_count": 29,
     "metadata": {},
     "output_type": "execute_result"
    }
   ],
   "source": [
    "fact(5)"
   ]
  },
  {
   "cell_type": "code",
   "execution_count": 39,
   "metadata": {
    "collapsed": false
   },
   "outputs": [
    {
     "name": "stdout",
     "output_type": "stream",
     "text": [
      "(5,0) (5,1) (5,2) (5,3) (5,4) (5,5) (5,6) (5,7) (5,8) (5,9) \n",
      "(4,0) (4,1) (4,2) (4,3) (4,4) (4,5) (4,6) (4,7) (4,8) (4,9) \n",
      "(3,0) (3,1) (3,2) (3,3) (3,4) (3,5) (3,6) (3,7) (3,8) (3,9) \n",
      "(2,0) (2,1) (2,2) (2,3) (2,4) (2,5) (2,6) (2,7) (2,8) (2,9) \n",
      "(1,0) (1,1) (1,2) (1,3) (1,4) (1,5) (1,6) (1,7) (1,8) (1,9) \n"
     ]
    }
   ],
   "source": [
    "for i in range(5,0,-1):\n",
    "    for j in range(10):\n",
    "        print(\"({},{})\".format(i,j),end=\" \")\n",
    "    print()\n",
    "    \n",
    "    "
   ]
  },
  {
   "cell_type": "code",
   "execution_count": 35,
   "metadata": {
    "collapsed": false
   },
   "outputs": [
    {
     "name": "stdout",
     "output_type": "stream",
     "text": [
      "(0,0) (0,1) (0,2) (0,3) (0,4) (0,5) (0,6) (0,7) (0,8) (0,9) \n",
      "(1,0) (1,1) (1,2) (1,3) (1,4) (1,5) (1,6) (1,7) (1,8) (1,9) \n",
      "(2,0) (2,1) (2,2) (2,3) (2,4) (2,5) (2,6) (2,7) (2,8) (2,9) \n",
      "(3,0) (3,1) (3,2) (3,3) (3,4) (3,5) (3,6) (3,7) (3,8) (3,9) \n",
      "(4,0) (4,1) (4,2) (4,3) (4,4) (4,5) (4,6) (4,7) (4,8) (4,9) \n"
     ]
    }
   ],
   "source": [
    "i = 0\n",
    "while i<5:\n",
    "    j = 0\n",
    "    while j<10:\n",
    "        print(\"({},{})\".format(i,j), end=\" \")\n",
    "        j+=1\n",
    "    print()\n",
    "    i+=1"
   ]
  },
  {
   "cell_type": "code",
   "execution_count": 37,
   "metadata": {
    "collapsed": false
   },
   "outputs": [
    {
     "name": "stdout",
     "output_type": "stream",
     "text": [
      "(5,0) (5,1) (5,2) (5,3) (5,4) (5,5) (5,6) (5,7) (5,8) (5,9) \n",
      "(4,0) (4,1) (4,2) (4,3) (4,4) (4,5) (4,6) (4,7) (4,8) (4,9) \n",
      "(3,0) (3,1) (3,2) (3,3) (3,4) (3,5) (3,6) (3,7) (3,8) (3,9) \n",
      "(2,0) (2,1) (2,2) (2,3) (2,4) (2,5) (2,6) (2,7) (2,8) (2,9) \n",
      "(1,0) (1,1) (1,2) (1,3) (1,4) (1,5) (1,6) (1,7) (1,8) (1,9) \n"
     ]
    }
   ],
   "source": [
    "i = 5\n",
    "while i>0:\n",
    "    for j in range(10):\n",
    "        print(\"({},{})\".format(i,j), end=\" \")\n",
    "    print()\n",
    "    i-=1"
   ]
  },
  {
   "cell_type": "code",
   "execution_count": 45,
   "metadata": {
    "collapsed": true
   },
   "outputs": [],
   "source": [
    "def calcPromedio() -> float:\n",
    "    \"\"\"\n",
    "    Calcula y retorna el promedio de los números pedidos al usuario.\n",
    "    Si el número es menor de 0 calucla y retorna el promedio.\n",
    "    \"\"\"\n",
    "    numero = 0\n",
    "    suma = 0\n",
    "    cantidad = 0\n",
    "    while numero>=0:\n",
    "        numero = int(input(\"Deme un número:\"))\n",
    "        cantidad += 1\n",
    "        suma += numero\n",
    "    return suma/cantidad"
   ]
  },
  {
   "cell_type": "code",
   "execution_count": 46,
   "metadata": {
    "collapsed": false
   },
   "outputs": [
    {
     "name": "stdout",
     "output_type": "stream",
     "text": [
      "Deme un número:1\n",
      "Deme un número:2\n",
      "Deme un número:3\n",
      "Deme un número:4\n",
      "Deme un número:5\n",
      "Deme un número:-1\n"
     ]
    },
    {
     "data": {
      "text/plain": [
       "2.3333333333333335"
      ]
     },
     "execution_count": 46,
     "metadata": {},
     "output_type": "execute_result"
    }
   ],
   "source": [
    "calcPromedio()"
   ]
  },
  {
   "cell_type": "code",
   "execution_count": 47,
   "metadata": {
    "collapsed": true
   },
   "outputs": [],
   "source": [
    "def calcPromedio() -> float:\n",
    "    \"\"\"\n",
    "    Calcula y retorna el promedio de los números pedidos al usuario.\n",
    "    Si el número es menor de 0 calucla y retorna el promedio.\n",
    "    \"\"\"\n",
    "    numero = 0\n",
    "    suma = 0\n",
    "    cantidad = 0\n",
    "    while numero>=0:\n",
    "        numero = int(input(\"Deme un número:\"))\n",
    "        if numero>=0:\n",
    "            cantidad += 1\n",
    "            suma += numero\n",
    "    return suma/cantidad"
   ]
  },
  {
   "cell_type": "code",
   "execution_count": 48,
   "metadata": {
    "collapsed": false
   },
   "outputs": [
    {
     "name": "stdout",
     "output_type": "stream",
     "text": [
      "Deme un número:1\n",
      "Deme un número:2\n",
      "Deme un número:3\n",
      "Deme un número:-1\n"
     ]
    },
    {
     "data": {
      "text/plain": [
       "2.0"
      ]
     },
     "execution_count": 48,
     "metadata": {},
     "output_type": "execute_result"
    }
   ],
   "source": [
    "calcPromedio()"
   ]
  },
  {
   "cell_type": "code",
   "execution_count": 49,
   "metadata": {
    "collapsed": true
   },
   "outputs": [],
   "source": [
    "def calcPromedio() -> float:\n",
    "    \"\"\"\n",
    "    Calcula y retorna el promedio de los números pedidos al usuario.\n",
    "    Si el número es menor de 0 calucla y retorna el promedio.\n",
    "    \"\"\"\n",
    "    suma = 0\n",
    "    cantidad = 0\n",
    "    numero = int(input(\"Deme un número:\"))\n",
    "    while numero>=0:\n",
    "        cantidad += 1\n",
    "        suma += numero\n",
    "        numero = int(input(\"Deme un número:\"))\n",
    "    return suma/cantidad"
   ]
  },
  {
   "cell_type": "code",
   "execution_count": null,
   "metadata": {
    "collapsed": false
   },
   "outputs": [],
   "source": [
    "calcPromedio()"
   ]
  },
  {
   "cell_type": "code",
   "execution_count": 6,
   "metadata": {
    "collapsed": false
   },
   "outputs": [
    {
     "name": "stdout",
     "output_type": "stream",
     "text": [
      "0,1,1,2,3,5,8,13,21,34,"
     ]
    }
   ],
   "source": [
    "def fibo(n):\n",
    "    ante = 0\n",
    "    pen = 1\n",
    "    for i in range(n):\n",
    "        actual = ante + pen\n",
    "        print(ante,end=',')\n",
    "        ante = pen\n",
    "        pen = actual\n",
    "\n",
    "fibo(10)"
   ]
  },
  {
   "cell_type": "code",
   "execution_count": 9,
   "metadata": {
    "collapsed": true
   },
   "outputs": [],
   "source": [
    "def log(x:float,n=10) -> float:\n",
    "    suma = 0\n",
    "    for i in range(1,n+1):\n",
    "        term = (x-1)**i\n",
    "        signo = -1**(i+1)\n",
    "        suma += signo*term/i\n",
    "    return suma"
   ]
  },
  {
   "cell_type": "code",
   "execution_count": 10,
   "metadata": {
    "collapsed": false
   },
   "outputs": [
    {
     "data": {
      "text/plain": [
       "(2.302585092994046, -397891598.5607143)"
      ]
     },
     "execution_count": 10,
     "metadata": {},
     "output_type": "execute_result"
    }
   ],
   "source": [
    "import math\n",
    "math.log(10),log(10)"
   ]
  },
  {
   "cell_type": "markdown",
   "metadata": {},
   "source": [
    "### Monte-Carlo para calcular $\\pi$"
   ]
  },
  {
   "cell_type": "code",
   "execution_count": 11,
   "metadata": {
    "collapsed": true
   },
   "outputs": [],
   "source": [
    "import random"
   ]
  },
  {
   "cell_type": "code",
   "execution_count": 15,
   "metadata": {
    "collapsed": false
   },
   "outputs": [],
   "source": [
    "def MC_Pi(n=100) -> float:\n",
    "    i = 0\n",
    "    contador = 0\n",
    "    while i<n:\n",
    "        x = random.random()\n",
    "        y = random.random()\n",
    "        d = math.sqrt(x**2+y**2)\n",
    "        if d<=1:\n",
    "            contador+=1\n",
    "        i+=1\n",
    "    return 4*(contador/n)"
   ]
  },
  {
   "cell_type": "code",
   "execution_count": 22,
   "metadata": {
    "collapsed": false
   },
   "outputs": [
    {
     "data": {
      "text/plain": [
       "3.140548"
      ]
     },
     "execution_count": 22,
     "metadata": {},
     "output_type": "execute_result"
    }
   ],
   "source": [
    "MC_Pi(1000000)"
   ]
  }
 ],
 "metadata": {
  "kernelspec": {
   "display_name": "Python 3",
   "language": "python",
   "name": "python3"
  },
  "language_info": {
   "codemirror_mode": {
    "name": "ipython",
    "version": 3
   },
   "file_extension": ".py",
   "mimetype": "text/x-python",
   "name": "python",
   "nbconvert_exporter": "python",
   "pygments_lexer": "ipython3",
   "version": "3.4.3+"
  }
 },
 "nbformat": 4,
 "nbformat_minor": 0
}
