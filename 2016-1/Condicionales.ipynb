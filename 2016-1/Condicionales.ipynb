{
 "cells": [
  {
   "cell_type": "markdown",
   "metadata": {},
   "source": [
    "Los condicionales son abstracciones de control.\n",
    "\n",
    "Cambian la linea de ejecución de un programa dependiendo de una condición\n",
    "\n",
    "```\n",
    "si <condicion> entonces\n",
    "   acciones\n",
    "fin si\n",
    "```\n",
    "Las acciones se ejecutan si la condición es verdadera\n",
    "\n",
    "En Python las condiciones se escriben:\n",
    "\n",
    "```\n",
    "if expresion:\n",
    "   sentencias\n",
    "```"
   ]
  },
  {
   "cell_type": "code",
   "execution_count": 3,
   "metadata": {
    "collapsed": false
   },
   "outputs": [
    {
     "name": "stdout",
     "output_type": "stream",
     "text": [
      "Verdadero\n",
      "Done\n"
     ]
    }
   ],
   "source": [
    "if True:\n",
    "    print(\"Verdadero\")\n",
    "print(\"Done\")"
   ]
  },
  {
   "cell_type": "code",
   "execution_count": 4,
   "metadata": {
    "collapsed": false
   },
   "outputs": [
    {
     "name": "stdout",
     "output_type": "stream",
     "text": [
      "Done\n"
     ]
    }
   ],
   "source": [
    "if False:\n",
    "    print(\"Falso\")\n",
    "print(\"Done\")"
   ]
  },
  {
   "cell_type": "code",
   "execution_count": 6,
   "metadata": {
    "collapsed": false
   },
   "outputs": [
    {
     "name": "stdout",
     "output_type": "stream",
     "text": [
      "Mayor entre 4 y 8 es 8\n",
      "Mayor entre 4 y 8 es 8\n"
     ]
    }
   ],
   "source": [
    "def mayor(a:int,b:int) -> int:\n",
    "    \"Retorna el mayor número de los dos números dados\"\n",
    "    if a > b:\n",
    "        return a\n",
    "    return b\n",
    "\n",
    "print(\"Mayor entre 4 y 8 es\",mayor(4,8))\n",
    "print(\"Mayor entre 4 y 8 es\",mayor(8,4))"
   ]
  },
  {
   "cell_type": "code",
   "execution_count": 11,
   "metadata": {
    "collapsed": false
   },
   "outputs": [
    {
     "name": "stdout",
     "output_type": "stream",
     "text": [
      "Mayor entre 4 y 8 es 8\n",
      "Mayor entre 4 y 8 es 8\n",
      "Mayor entre 7 y 7 es 7\n"
     ]
    }
   ],
   "source": [
    "def mayor2(a:int, b:int) -> int:\n",
    "    \"Retorna el mayor número de los dos números dados\"\n",
    "    if a >= b:\n",
    "        c = a\n",
    "    if a < b:\n",
    "        c = b\n",
    "    return c\n",
    "\n",
    "print(\"Mayor entre 4 y 8 es\",mayor2(4,8))\n",
    "print(\"Mayor entre 4 y 8 es\",mayor2(8,4))\n",
    "print(\"Mayor entre 7 y 7 es\",mayor2(7,7))"
   ]
  },
  {
   "cell_type": "code",
   "execution_count": 12,
   "metadata": {
    "collapsed": false
   },
   "outputs": [
    {
     "name": "stdout",
     "output_type": "stream",
     "text": [
      "Mayor entre 4 y 8 es 8\n",
      "Mayor entre 4 y 8 es 8\n",
      "Mayor entre 7 y 7 es 7\n"
     ]
    }
   ],
   "source": [
    "def mayor3(a:int, b:int) -> int:\n",
    "    \"Retorna el mayor núemro de los dos números dados\"\n",
    "    c = a\n",
    "    if a < b:\n",
    "        c = b\n",
    "    return c\n",
    "\n",
    "print(\"Mayor entre 4 y 8 es\",mayor3(4,8))\n",
    "print(\"Mayor entre 4 y 8 es\",mayor3(8,4))\n",
    "print(\"Mayor entre 7 y 7 es\",mayor3(7,7))\n"
   ]
  },
  {
   "cell_type": "code",
   "execution_count": 14,
   "metadata": {
    "collapsed": false
   },
   "outputs": [
    {
     "name": "stdout",
     "output_type": "stream",
     "text": [
      "Mayor entre 2, 5 y 3 es 5\n",
      "Mayor entre 5, 5 y 3 es 5\n"
     ]
    }
   ],
   "source": [
    "def mayor3(a:int, b:int, c:int) -> int:\n",
    "    \"Retorna el mayor de los tres numeros dados\"\n",
    "    if a>=b and a>=c:\n",
    "        return a\n",
    "    if b>=a and b>=c:\n",
    "        return b\n",
    "    return c\n",
    "\n",
    "print(\"Mayor entre 2, 5 y 3 es\",mayor3(2,5,3))\n",
    "print(\"Mayor entre 5, 5 y 3 es\",mayor3(5,5,3))"
   ]
  },
  {
   "cell_type": "code",
   "execution_count": 15,
   "metadata": {
    "collapsed": false
   },
   "outputs": [
    {
     "name": "stdout",
     "output_type": "stream",
     "text": [
      "Mayor entre 2, 5 y 3 es 5\n",
      "Mayor entre 5, 5 y 3 es 5\n"
     ]
    }
   ],
   "source": [
    "def mayor3(a:int, b:int, c:int) -> int:\n",
    "    \"Retorna el mayor de los tres numeros dados\"\n",
    "    return mayor(a,mayor(b,c))\n",
    "\n",
    "print(\"Mayor entre 2, 5 y 3 es\",mayor3(2,5,3))\n",
    "print(\"Mayor entre 5, 5 y 3 es\",mayor3(5,5,3))"
   ]
  },
  {
   "cell_type": "code",
   "execution_count": 16,
   "metadata": {
    "collapsed": false
   },
   "outputs": [
    {
     "name": "stdout",
     "output_type": "stream",
     "text": [
      "Buenos dias\n"
     ]
    }
   ],
   "source": [
    "def saludo(tiempo):\n",
    "    if tiempo==\"mañana\":\n",
    "        print(\"Buenos dias\")\n",
    "    if tiempo==\"tarde\":\n",
    "        print(\"Buenas tardes\")\n",
    "\n",
    "saludo(\"mañana\")"
   ]
  },
  {
   "cell_type": "code",
   "execution_count": 19,
   "metadata": {
    "collapsed": false
   },
   "outputs": [
    {
     "name": "stdout",
     "output_type": "stream",
     "text": [
      "Buenos dias\n",
      "Pedro\n",
      "Buenas tardes\n",
      "Pablo\n"
     ]
    }
   ],
   "source": [
    "def saludo(tiempo,nombre):\n",
    "    if tiempo==\"mañana\":\n",
    "        print(\"Buenos dias\")\n",
    "    else:\n",
    "        print(\"Buenas tardes\")\n",
    "    print(nombre)\n",
    "        \n",
    "saludo(\"mañana\",\"Pedro\")\n",
    "saludo(\"tarde\",\"Pablo\")"
   ]
  },
  {
   "cell_type": "markdown",
   "metadata": {},
   "source": [
    "Juego de Tijeras, Papel y Piedra"
   ]
  },
  {
   "cell_type": "code",
   "execution_count": 20,
   "metadata": {
    "collapsed": true
   },
   "outputs": [],
   "source": [
    "def gana(obj1:str,obj2:str)->str:\n",
    "    \"Retorna el ganador del juego papel, tijera y piedra\"\n",
    "    if obj1==\"papel\" and obj2==\"tijera\" or obj1==\"tijera\" and obj2==\"papel\":\n",
    "        return \"tijera\"\n",
    "    if obj1==\"papel\" and obj2==\"piedra\" or obj1==\"piedra\" and obj2==\"papel\":\n",
    "        return \"papel\"\n",
    "    if obj1==\"tijera\" and obj2==\"piedra\" or obj1==\"piedra\" and obj2==\"tijera\":\n",
    "        return \"piedra\"\n",
    "    return \"empate\""
   ]
  },
  {
   "cell_type": "code",
   "execution_count": 21,
   "metadata": {
    "collapsed": false
   },
   "outputs": [
    {
     "data": {
      "text/plain": [
       "'piedra'"
      ]
     },
     "execution_count": 21,
     "metadata": {},
     "output_type": "execute_result"
    }
   ],
   "source": [
    "gana(\"tijera\",\"piedra\")"
   ]
  },
  {
   "cell_type": "code",
   "execution_count": 22,
   "metadata": {
    "collapsed": true
   },
   "outputs": [],
   "source": [
    "import random"
   ]
  },
  {
   "cell_type": "code",
   "execution_count": 1,
   "metadata": {
    "collapsed": false
   },
   "outputs": [],
   "source": [
    "def obtener_objeto():\n",
    "    \"Retorna aleatoriamente un objeto entre papel, piedra o tijera\"\n",
    "    x = random.randint(1,3)\n",
    "    if x==1:\n",
    "        return \"piedra\"\n",
    "    if x==2:\n",
    "        return \"papel\"\n",
    "    return \"tijera\""
   ]
  },
  {
   "cell_type": "code",
   "execution_count": 2,
   "metadata": {
    "collapsed": false
   },
   "outputs": [
    {
     "ename": "NameError",
     "evalue": "name 'random' is not defined",
     "output_type": "error",
     "traceback": [
      "\u001b[1;31m---------------------------------------------------------------------------\u001b[0m",
      "\u001b[1;31mNameError\u001b[0m                                 Traceback (most recent call last)",
      "\u001b[1;32m<ipython-input-2-321ce6018f41>\u001b[0m in \u001b[0;36m<module>\u001b[1;34m()\u001b[0m\n\u001b[1;32m----> 1\u001b[1;33m \u001b[0mobtener_objeto\u001b[0m\u001b[1;33m(\u001b[0m\u001b[1;33m)\u001b[0m\u001b[1;33m\u001b[0m\u001b[0m\n\u001b[0m",
      "\u001b[1;32m<ipython-input-1-025163ed175e>\u001b[0m in \u001b[0;36mobtener_objeto\u001b[1;34m()\u001b[0m\n\u001b[0;32m      1\u001b[0m \u001b[1;32mdef\u001b[0m \u001b[0mobtener_objeto\u001b[0m\u001b[1;33m(\u001b[0m\u001b[1;33m)\u001b[0m\u001b[1;33m:\u001b[0m\u001b[1;33m\u001b[0m\u001b[0m\n\u001b[0;32m      2\u001b[0m     \u001b[1;34m\"Retorna aleatoriamente un objeto entre papel, piedra o tijera\"\u001b[0m\u001b[1;33m\u001b[0m\u001b[0m\n\u001b[1;32m----> 3\u001b[1;33m     \u001b[0mx\u001b[0m \u001b[1;33m=\u001b[0m \u001b[0mrandom\u001b[0m\u001b[1;33m.\u001b[0m\u001b[0mrandint\u001b[0m\u001b[1;33m(\u001b[0m\u001b[1;36m1\u001b[0m\u001b[1;33m,\u001b[0m\u001b[1;36m3\u001b[0m\u001b[1;33m)\u001b[0m\u001b[1;33m\u001b[0m\u001b[0m\n\u001b[0m\u001b[0;32m      4\u001b[0m     \u001b[1;32mif\u001b[0m \u001b[0mx\u001b[0m\u001b[1;33m==\u001b[0m\u001b[1;36m1\u001b[0m\u001b[1;33m:\u001b[0m\u001b[1;33m\u001b[0m\u001b[0m\n\u001b[0;32m      5\u001b[0m         \u001b[1;32mreturn\u001b[0m \u001b[1;34m\"piedra\"\u001b[0m\u001b[1;33m\u001b[0m\u001b[0m\n",
      "\u001b[1;31mNameError\u001b[0m: name 'random' is not defined"
     ]
    }
   ],
   "source": [
    "obtener_objeto()"
   ]
  },
  {
   "cell_type": "code",
   "execution_count": 31,
   "metadata": {
    "collapsed": false
   },
   "outputs": [
    {
     "data": {
      "text/plain": [
       "'empate'"
      ]
     },
     "execution_count": 31,
     "metadata": {},
     "output_type": "execute_result"
    }
   ],
   "source": [
    "gana(\"piedra\",obtener_objeto())"
   ]
  },
  {
   "cell_type": "code",
   "execution_count": 41,
   "metadata": {
    "collapsed": false
   },
   "outputs": [],
   "source": [
    "def jugar():\n",
    "    obj = input(\"Escoger entre 'papel', 'piedra' y 'tijera' ('salir' para terminar)\")\n",
    "    if obj!=\"salir\":\n",
    "        print(\"Gana\",gana(obj,obtener_objeto()))\n",
    "        jugar()"
   ]
  },
  {
   "cell_type": "code",
   "execution_count": 42,
   "metadata": {
    "collapsed": false
   },
   "outputs": [
    {
     "name": "stdout",
     "output_type": "stream",
     "text": [
      "Escoger entre 'papel', 'piedra' y 'tijera' ('salir' para terminar)tijera\n",
      "Gana tijera\n",
      "Escoger entre 'papel', 'piedra' y 'tijera' ('salir' para terminar)salir\n"
     ]
    }
   ],
   "source": [
    "jugar()"
   ]
  }
 ],
 "metadata": {
  "kernelspec": {
   "display_name": "Python 3",
   "language": "python",
   "name": "python3"
  },
  "language_info": {
   "codemirror_mode": {
    "name": "ipython",
    "version": 3
   },
   "file_extension": ".py",
   "mimetype": "text/x-python",
   "name": "python",
   "nbconvert_exporter": "python",
   "pygments_lexer": "ipython3",
   "version": "3.4.3+"
  }
 },
 "nbformat": 4,
 "nbformat_minor": 0
}
