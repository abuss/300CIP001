{
 "cells": [
  {
   "cell_type": "markdown",
   "metadata": {},
   "source": [
    "### Tablas de multiplicar\n",
    "\n",
    "Función para crear las tablas de multiplicar\n",
    "```\n",
    " 1 x 2 = 2       1 x 3 = 3        1 x 9 = 9\n",
    " 2 x 2 = 4       2 x 3 = 6        2 x 9 = 18\n",
    " 3 x 2 = 6       3 x 3 = 9  ...   3 x 9 = 27\n",
    "    ...            ...              ...\n",
    "10 x 2 = 20     10 x 3 = 30      10 x 9 = 90\n",
    "```\n"
   ]
  },
  {
   "cell_type": "markdown",
   "metadata": {},
   "source": [
    "Como abordar a solucionar el problema?"
   ]
  },
  {
   "cell_type": "code",
   "execution_count": 12,
   "metadata": {
    "collapsed": true
   },
   "outputs": [],
   "source": [
    "def tablaMult(c:int,ini:int=1,k:int=10):\n",
    "    \"Muestra la tabla de multiplicar del número c entre [ini..k]\"\n",
    "    if (ini <= k):\n",
    "        print(\"{} x {} = {}\".format(ini,c,ini*c))\n",
    "        ini += 1\n",
    "        tablaMult(c,ini,k)"
   ]
  },
  {
   "cell_type": "code",
   "execution_count": 13,
   "metadata": {
    "collapsed": false
   },
   "outputs": [
    {
     "name": "stdout",
     "output_type": "stream",
     "text": [
      "1 x 3 = 3\n",
      "2 x 3 = 6\n",
      "3 x 3 = 9\n",
      "4 x 3 = 12\n",
      "5 x 3 = 15\n",
      "6 x 3 = 18\n",
      "7 x 3 = 21\n",
      "8 x 3 = 24\n",
      "9 x 3 = 27\n",
      "10 x 3 = 30\n"
     ]
    }
   ],
   "source": [
    "tablaMult(3)"
   ]
  },
  {
   "cell_type": "code",
   "execution_count": 31,
   "metadata": {
    "collapsed": true
   },
   "outputs": [],
   "source": [
    "def tablas(c:int,fin:int,ini:int=1,k:int=10):\n",
    "    \"Muestra las tablas de multiplicar desde c hasta fin\"\n",
    "    if c <= fin:\n",
    "        tablaMult(c,ini,k)\n",
    "        print(\"-\"*10)\n",
    "        tablas(c+1,fin,ini,k)"
   ]
  },
  {
   "cell_type": "code",
   "execution_count": 30,
   "metadata": {
    "collapsed": false
   },
   "outputs": [
    {
     "name": "stdout",
     "output_type": "stream",
     "text": [
      "1 x 2 = 2\n",
      "2 x 2 = 4\n",
      "3 x 2 = 6\n",
      "4 x 2 = 8\n",
      "5 x 2 = 10\n",
      "6 x 2 = 12\n",
      "7 x 2 = 14\n",
      "8 x 2 = 16\n",
      "9 x 2 = 18\n",
      "10 x 2 = 20\n",
      "holaholaholaholaholaholaholaholaholahola\n",
      "1 x 3 = 3\n",
      "2 x 3 = 6\n",
      "3 x 3 = 9\n",
      "4 x 3 = 12\n",
      "5 x 3 = 15\n",
      "6 x 3 = 18\n",
      "7 x 3 = 21\n",
      "8 x 3 = 24\n",
      "9 x 3 = 27\n",
      "10 x 3 = 30\n",
      "holaholaholaholaholaholaholaholaholahola\n",
      "1 x 4 = 4\n",
      "2 x 4 = 8\n",
      "3 x 4 = 12\n",
      "4 x 4 = 16\n",
      "5 x 4 = 20\n",
      "6 x 4 = 24\n",
      "7 x 4 = 28\n",
      "8 x 4 = 32\n",
      "9 x 4 = 36\n",
      "10 x 4 = 40\n",
      "holaholaholaholaholaholaholaholaholahola\n",
      "1 x 5 = 5\n",
      "2 x 5 = 10\n",
      "3 x 5 = 15\n",
      "4 x 5 = 20\n",
      "5 x 5 = 25\n",
      "6 x 5 = 30\n",
      "7 x 5 = 35\n",
      "8 x 5 = 40\n",
      "9 x 5 = 45\n",
      "10 x 5 = 50\n",
      "holaholaholaholaholaholaholaholaholahola\n"
     ]
    }
   ],
   "source": [
    "tablas(2,5)"
   ]
  },
  {
   "cell_type": "code",
   "execution_count": 22,
   "metadata": {
    "collapsed": false
   },
   "outputs": [
    {
     "data": {
      "text/plain": [
       "complex"
      ]
     },
     "execution_count": 22,
     "metadata": {},
     "output_type": "execute_result"
    }
   ],
   "source": [
    "type(2+4j)"
   ]
  },
  {
   "cell_type": "markdown",
   "metadata": {},
   "source": [
    "### Graficar funciones matemáticas\n",
    "\n",
    "$y = f(x)$\n",
    "\n",
    "| x |  f(x)  |\n",
    "|---|--------|\n",
    "| 0 | f(0)   |\n",
    "| 1 | f(1)   |\n",
    "| 2 | f(2)   |\n",
    "| . . . | . . .   |\n",
    "| 9 | f(9)   |"
   ]
  },
  {
   "cell_type": "code",
   "execution_count": 2,
   "metadata": {
    "collapsed": true
   },
   "outputs": [],
   "source": [
    "def f(x):\n",
    "    return x**2"
   ]
  },
  {
   "cell_type": "code",
   "execution_count": 24,
   "metadata": {
    "collapsed": true
   },
   "outputs": [],
   "source": [
    "def g(x):\n",
    "    return 2.5*x+4"
   ]
  },
  {
   "cell_type": "code",
   "execution_count": 4,
   "metadata": {
    "collapsed": true
   },
   "outputs": [],
   "source": [
    "def tabular(funcion, x1:int, x2:int):\n",
    "    \"Muestra la tabla de evaluar la función (?) entre [x1..x2]\"\n",
    "    if x1 <= x2:\n",
    "        y = funcion(x1)\n",
    "        print(\"{} -> {}\".format(x1,y))\n",
    "        tabular(funcion, x1+1,x2)"
   ]
  },
  {
   "cell_type": "code",
   "execution_count": 5,
   "metadata": {
    "collapsed": false
   },
   "outputs": [
    {
     "name": "stdout",
     "output_type": "stream",
     "text": [
      "0 -> 0\n",
      "1 -> 1\n",
      "2 -> 4\n",
      "3 -> 9\n",
      "4 -> 16\n",
      "5 -> 25\n",
      "6 -> 36\n",
      "7 -> 49\n",
      "8 -> 64\n",
      "9 -> 81\n",
      "10 -> 100\n"
     ]
    }
   ],
   "source": [
    "tabular(f,0,10)"
   ]
  },
  {
   "cell_type": "code",
   "execution_count": 6,
   "metadata": {
    "collapsed": false
   },
   "outputs": [
    {
     "name": "stdout",
     "output_type": "stream",
     "text": [
      "0 -> -4.0\n",
      "1 -> -3.5\n",
      "2 -> -3.0\n",
      "3 -> -2.5\n",
      "4 -> -2.0\n",
      "5 -> -1.5\n",
      "6 -> -1.0\n",
      "7 -> -0.5\n",
      "8 -> 0.0\n",
      "9 -> 0.5\n",
      "10 -> 1.0\n"
     ]
    }
   ],
   "source": [
    "tabular(g,0,10)"
   ]
  },
  {
   "cell_type": "code",
   "execution_count": 7,
   "metadata": {
    "collapsed": false
   },
   "outputs": [],
   "source": [
    "from turtle import *\n",
    "setup(300,300)"
   ]
  },
  {
   "cell_type": "code",
   "execution_count": 8,
   "metadata": {
    "collapsed": true
   },
   "outputs": [],
   "source": [
    "def tabular(funcion, x1:int, x2:int):\n",
    "    \"Muestra la tabla de evaluar la función (?) entre [x1..x2]\"\n",
    "    if x1 <= x2:\n",
    "        y = funcion(x1)\n",
    "        #print(\"{} -> {}\".format(x1,y))\n",
    "        goto(x1*10,y*10)\n",
    "        tabular(funcion, x1+1,x2)"
   ]
  },
  {
   "cell_type": "code",
   "execution_count": 9,
   "metadata": {
    "collapsed": false
   },
   "outputs": [],
   "source": [
    "import math\n",
    "def h(x):\n",
    "    return math.log(x)"
   ]
  },
  {
   "cell_type": "code",
   "execution_count": 10,
   "metadata": {
    "collapsed": false
   },
   "outputs": [],
   "source": [
    "reset()\n",
    "tabular(f,-20,20)"
   ]
  },
  {
   "cell_type": "code",
   "execution_count": 11,
   "metadata": {
    "collapsed": true
   },
   "outputs": [],
   "source": [
    "def plot(f,x1,x2):\n",
    "    reset()\n",
    "    up()\n",
    "    goto(x1,f(x1))\n",
    "    down()\n",
    "    tabular(f,x1,x2)\n",
    "    exitonclick()"
   ]
  },
  {
   "cell_type": "code",
   "execution_count": 13,
   "metadata": {
    "collapsed": false
   },
   "outputs": [],
   "source": [
    "plot(g,-10,10)"
   ]
  },
  {
   "cell_type": "code",
   "execution_count": 21,
   "metadata": {
    "collapsed": false
   },
   "outputs": [],
   "source": [
    "def tabular(funcion, x1:int, x2:int):\n",
    "    \"Muestra la tabla de evaluar la función (?) entre [x1..x2]\"\n",
    "    if x1 <= x2:\n",
    "        y = int(funcion(x1))\n",
    "        print(\" \"*y,\"*\")\n",
    "        tabular(funcion, x1+1,x2)"
   ]
  },
  {
   "cell_type": "code",
   "execution_count": 22,
   "metadata": {
    "collapsed": false
   },
   "outputs": [
    {
     "name": "stdout",
     "output_type": "stream",
     "text": [
      "                          *\n",
      "                 *\n",
      "          *\n",
      "     *\n",
      "  *\n",
      " *\n",
      "  *\n",
      "     *\n",
      "          *\n",
      "                 *\n",
      "                          *\n",
      "                                     *\n",
      "                                                  *\n",
      "                                                                 *\n",
      "                                                                                  *\n",
      "                                                                                                     *\n"
     ]
    }
   ],
   "source": [
    "tabular(f,-5,10)"
   ]
  },
  {
   "cell_type": "code",
   "execution_count": 25,
   "metadata": {
    "collapsed": false
   },
   "outputs": [
    {
     "name": "stdout",
     "output_type": "stream",
     "text": [
      " *\n",
      " *\n",
      " *\n",
      " *\n",
      "  *\n",
      "     *\n",
      "       *\n",
      "          *\n",
      "            *\n",
      "               *\n",
      "                 *\n"
     ]
    }
   ],
   "source": [
    "tabular(g,-5,5)"
   ]
  }
 ],
 "metadata": {
  "kernelspec": {
   "display_name": "Python 3",
   "language": "python",
   "name": "python3"
  }
 },
 "nbformat": 4,
 "nbformat_minor": 0
}
